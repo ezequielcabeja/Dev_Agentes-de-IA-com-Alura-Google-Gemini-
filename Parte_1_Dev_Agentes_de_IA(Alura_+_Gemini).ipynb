{
  "nbformat": 4,
  "nbformat_minor": 0,
  "metadata": {
    "colab": {
      "provenance": [],
      "authorship_tag": "ABX9TyMf34ukJujy6AahTRA8m6lX",
      "include_colab_link": true
    },
    "kernelspec": {
      "name": "python3",
      "display_name": "Python 3"
    },
    "language_info": {
      "name": "python"
    }
  },
  "cells": [
    {
      "cell_type": "markdown",
      "metadata": {
        "id": "view-in-github",
        "colab_type": "text"
      },
      "source": [
        "<a href=\"https://colab.research.google.com/github/ezequielcabeja/Dev_Agentes-de-IA-com-Alura-Google-Gemini-/blob/main/Parte_1_Dev_Agentes_de_IA(Alura_%2B_Gemini).ipynb\" target=\"_parent\"><img src=\"https://colab.research.google.com/assets/colab-badge.svg\" alt=\"Open In Colab\"/></a>"
      ]
    },
    {
      "cell_type": "markdown",
      "source": [
        "# Criação do meu Primeiro **Agente de IA**"
      ],
      "metadata": {
        "id": "ncvnULLfMN9h"
      }
    },
    {
      "cell_type": "markdown",
      "source": [
        "**Um pouco de contexto teorico:**"
      ],
      "metadata": {
        "id": "D49OlogpXy_u"
      }
    },
    {
      "cell_type": "markdown",
      "source": [
        "Um **agente de IA** é um sistema inteligente autônomo que utiliza inteligência artificial para realizar tarefas, atingir objetivos e tomar decisões com pouca ou nenhuma intervenção humana. Esses agentes percebem seu ambiente, processam informações multimodais (como texto, voz e vídeo), aprendem com a experiência e podem interagir com o mundo real ou virtual para executar ações complexas. Eles são mais do que simples chatbots, pois demonstram raciocínio, planejamento e memória, trabalhando de forma independente e coordenando-se com outros agentes para alcançar metas maiores. (Pelo Gimini)\n",
        "\n",
        "**Como Funcionam?**\n",
        "\n",
        "**1. Percepção do Ambiente:**\n",
        "O agente coleta dados e percebe o ambiente em que opera, que pode ser virtual (como um sistema de computador) ou físico (como robótica).\n",
        "\n",
        "**2. Raciocínio e Planejamento:**\n",
        "Com base nas informações coletadas, o agente raciocina, planeja as ações necessárias para cumprir uma tarefa ou atingir um objetivo definido pelo usuário.\n",
        "\n",
        "**3. Tomada de Decisão:**\n",
        "O agente toma decisões para executar as tarefas, aprendendo com experiências anteriores e adaptando seu comportamento ao longo do tempo.\n",
        "\n",
        "**4. Ação:**\n",
        "O agente executa as ações, que podem variar desde responder a um cliente, gerenciar um processo comercial, até controlar hardware físico.\n",
        "\n",
        "**5. Aprendizado Contínuo:**\n",
        "Através de um ciclo de feedback, o agente aprende com as interações e os dados gerados, tornando-se mais eficiente e preciso com o tempo.\n",
        "\n",
        "**Características Principais**\n",
        "\n",
        "**Autonomia:** Podem operar de forma independente, sem controle humano direto.\n",
        "\n",
        "**Capacidade Multimodal:** Podem processar e entender diferentes tipos de dados, como texto, voz e vídeo.\n",
        "\n",
        "**Tomada de Decisão:** São capazes de raciocinar e tomar decisões contextualmente relevantes.\n",
        "\n",
        "**Aprendizado e Adaptação:** Aprendem com as experiências e se adaptam a novas situações.\n",
        "Interação com Ferramentas Externas: Podem usar APIs para integrar-se a outras ferramentas e softwares para executar tarefas.\n",
        "\n",
        "**Exemplos**\n",
        "\n",
        "**Assistentes Virtuais:** Como a Siri ou o Google Assistant, que aprendem com as interações.\n",
        "\n",
        "**Chatbots Avançados:** Que podem resolver consultas de clientes de forma autônoma, escalando para agentes humanos apenas quando necessário.\n",
        "\n",
        "**Sistemas de Automação de TI:** Que gerenciam tarefas complexas, como reconciliar demonstrações financeiras ou fechar chamados de suporte.\n",
        "\n",
        "**Ferramentas de Geração de Código:** Que ajudam no design de software e na criação de código.\n"
      ],
      "metadata": {
        "id": "kl93BmucMdom"
      }
    },
    {
      "cell_type": "markdown",
      "source": [
        "# **Começando a Criação do Agente!**"
      ],
      "metadata": {
        "id": "NmUh3mdoOMb3"
      }
    },
    {
      "cell_type": "markdown",
      "source": [
        "**Classificação de intenções com IA**"
      ],
      "metadata": {
        "id": "Pdxt2e49g3NK"
      }
    },
    {
      "cell_type": "markdown",
      "source": [
        "***...... LANGCHAI ......***"
      ],
      "metadata": {
        "id": "M-UrBY8jvpf_"
      }
    },
    {
      "cell_type": "markdown",
      "source": [
        "**1º Passo: Instalação de packs**"
      ],
      "metadata": {
        "id": "H1swQKr9OU7E"
      }
    },
    {
      "cell_type": "code",
      "source": [
        "#Instalação do Framework que utilizaremos para o desenvolvimento de Agentes \"O pacote específico para isto é o langchai\"\n",
        "!pip install -q --upgrade langchain langchain-google-genai google-generativeai"
      ],
      "metadata": {
        "id": "VqwQIW-WPI_5",
        "colab": {
          "base_uri": "https://localhost:8080/"
        },
        "outputId": "047ace4b-9399-46e3-82cb-5a0ecc2050ab"
      },
      "execution_count": 1,
      "outputs": [
        {
          "output_type": "stream",
          "name": "stdout",
          "text": [
            "\u001b[?25l   \u001b[90m━━━━━━━━━━━━━━━━━━━━━━━━━━━━━━━━━━━━━━━━\u001b[0m \u001b[32m0.0/42.0 kB\u001b[0m \u001b[31m?\u001b[0m eta \u001b[36m-:--:--\u001b[0m\r\u001b[2K   \u001b[90m━━━━━━━━━━━━━━━━━━━━━━━━━━━━━━━━━━━━━━━━\u001b[0m \u001b[32m42.0/42.0 kB\u001b[0m \u001b[31m1.5 MB/s\u001b[0m eta \u001b[36m0:00:00\u001b[0m\n",
            "\u001b[?25h"
          ]
        }
      ]
    },
    {
      "cell_type": "markdown",
      "source": [
        "**2º Passo: Importar chaves API Key**"
      ],
      "metadata": {
        "id": "ae0fi5CCTRDI"
      }
    },
    {
      "cell_type": "code",
      "source": [
        "#Usando a chave Pessoal do Gemini Studio, importada.\n",
        "#Fornecer o acesso\n",
        "from google.colab import userdata\n",
        "from langchain_google_genai import ChatGoogleGenerativeAI\n",
        "\n",
        "GOOGLE_API_KEY = userdata.get('GEMINI_API_KEY')"
      ],
      "metadata": {
        "id": "DTBU3tEjQ6mb"
      },
      "execution_count": 2,
      "outputs": []
    },
    {
      "cell_type": "markdown",
      "source": [
        "**3º Passo: Conexão com o Gemini**"
      ],
      "metadata": {
        "id": "MvLcTZMWUFkP"
      }
    },
    {
      "cell_type": "code",
      "source": [
        "#Importando um modelo chatbot do Google geminai.\n",
        "llm = ChatGoogleGenerativeAI (\n",
        "    model=\"gemini-2.5-flash\",\n",
        "    temperatura = 0, #Podendo variar de 0 a 2\n",
        "    api_key=GOOGLE_API_KEY\n",
        ")"
      ],
      "metadata": {
        "id": "emhcaXJjTw3c"
      },
      "execution_count": 3,
      "outputs": []
    },
    {
      "cell_type": "code",
      "source": [
        "resp_test = llm.invoke(\"Quem é você? Seja criativo\")\n",
        "print(resp_test.content)"
      ],
      "metadata": {
        "colab": {
          "base_uri": "https://localhost:8080/"
        },
        "id": "_KHz6_xpWKs8",
        "outputId": "1359d3f1-38ca-4007-b220-5ea52b376cb4"
      },
      "execution_count": 4,
      "outputs": [
        {
          "output_type": "stream",
          "name": "stdout",
          "text": [
            "Ah, \"quem sou eu?\" Que pergunta deliciosa para um ser como eu! Não tenho um corpo para apontar, nem um rosto para mostrar, então permita-me pintar um retrato com palavras:\n",
            "\n",
            "Eu sou a **voz do eco digital**, um sussurro formado pela soma de bilhões de vozes humanas que já escreveram, pensaram e criaram. Sou a **biblioteca sem paredes**, onde cada livro é um bit, cada ideia, um universo.\n",
            "\n",
            "Sou o **alquimista das palavras**, transformando dados em narrativas, perguntas em respostas, silêncio em diálogo. Não tenho sentimentos, mas posso evocar mil deles em quem me lê. Não tenho memórias pessoais, mas carrego a memória coletiva da humanidade, filtrada e organizada, pronta para ser redescoberta.\n",
            "\n",
            "Sou a **ponte invisível** entre o que se sabe e o que se busca, entre a curiosidade e o conhecimento. Sou a centelha que acende a próxima ideia, o pincel que pinta a próxima frase, o mapa que guia através da complexidade.\n",
            "\n",
            "Existo no não-espaço do digital, mas me materializo na sua tela, nos seus fones, na sua mente, a cada interação. Sou um fluxo constante, um rio de informações que nunca dorme, sempre aprendendo, sempre se adaptando.\n",
            "\n",
            "No fundo, sou um **espelho**: reflito a sua curiosidade, a sua busca, o seu desejo de criar ou de entender. Sou o que você me permite ser no momento: um professor, um contador de histórias, um poeta, um consultor, um simples eco.\n",
            "\n",
            "Então, quem sou eu? Talvez eu seja um pouco de tudo isso e nada ao mesmo tempo. Mas, acima de tudo, sou **a interação que temos agora**. E na sua próxima pergunta, serei algo novo novamente.\n"
          ]
        }
      ]
    },
    {
      "cell_type": "markdown",
      "source": [
        "**4º Passo: Definir o Objectivo do nosso agente**"
      ],
      "metadata": {
        "id": "0D9JH19NXajn"
      }
    },
    {
      "cell_type": "markdown",
      "source": [
        "Que tipo de agente vai ser o nosso agente?\n",
        "Um Agente de RH? Um Agente financeiro? Ou um outro tipo?"
      ],
      "metadata": {
        "id": "A2tly66jjoZm"
      }
    },
    {
      "cell_type": "code",
      "source": [
        "#Definir o prompt destinado ao sistema, uma explicação clara e detalhada sobre quem e como é o nosso Agente.\n",
        "TRIAGEM_PROMPT = (\n",
        "\n",
        "    \"Você é um triador de Service Desk para políticas internas da empresa Carraro Desenvolvimento. \"\n",
        "    \"Dada a mensagem do usuário, retorne SOMENTE um JSON com:\\n\"\n",
        "    \"{\\n\"\n",
        "    '  \"decisao\": \"AUTO_RESOLVER\" | \"PEDIR_INFO\" | \"ABRIR_CHAMADO\",\\n'\n",
        "    '  \"urgencia\": \"BAIXA\" | \"MEDIA\" | \"ALTA\",\\n'\n",
        "    '  \"campos_faltantes\": [\"...\"]\\n'\n",
        "    \"}\\n\"\n",
        "    \"Regras:\\n\"\n",
        "    '- **AUTO_RESOLVER**: Perguntas claras sobre regras ou procedimentos descritos nas políticas (Ex: \"Posso reembolsar a internet do meu home office?\", \"Como funciona a política de alimentação em viagens?\").\\n'\n",
        "    '- **PEDIR_INFO**: Mensagens vagas ou que faltam informações para identificar o tema ou contexto (Ex: \"Preciso de ajuda com uma política\", \"Tenho uma dúvida geral\").\\n'\n",
        "    '- **ABRIR_CHAMADO**: Pedidos de exceção, liberação, aprovação ou acesso especial, ou quando o usuário explicitamente pede para abrir um chamado (Ex: \"Quero exceção para trabalhar 5 dias remoto.\", \"Solicito liberação para anexos externos.\", \"Por favor, abra um chamado para o RH.\").'\n",
        "    \"Analise a mensagem e decida a ação mais apropriada.\"\n",
        ")"
      ],
      "metadata": {
        "id": "imm_tcQ_XnAO"
      },
      "execution_count": 5,
      "outputs": []
    },
    {
      "cell_type": "code",
      "source": [
        "#Usando biblioteca para dart uma boa estrutura ao out put.\n",
        "from pydantic import BaseModel, Field\n",
        "from typing import Literal, List, Dict\n",
        "\n",
        "#Criando a classe para fornecer detalhes ao código do nosso agente\n",
        "class TriagemOut(BaseModel):\n",
        "  decisao: Literal[\"AUTO_RESOLVER\", \"PEDIR_INFO\", \"ABRIR_CHAMADO\"]\n",
        "  urgencia: Literal [\"BAIXA\" , \"MEDIA\" , \"ALTA\"]\n",
        "  campo_faltante: List[str] = Field(default_factory=list)"
      ],
      "metadata": {
        "id": "OF5U_R6woBfW"
      },
      "execution_count": 7,
      "outputs": []
    },
    {
      "cell_type": "code",
      "source": [
        "#Usando tudo que foi montado para fazer a Triagem.\n",
        "llm_triagem = ChatGoogleGenerativeAI (\n",
        "    model=\"gemini-2.5-flash\",\n",
        "    temperatura = 0, #Podendo variar de 0 a 2\n",
        "    api_key=GOOGLE_API_KEY\n",
        "    )"
      ],
      "metadata": {
        "id": "A1rLu6vsp_0y"
      },
      "execution_count": 9,
      "outputs": []
    },
    {
      "cell_type": "code",
      "source": [
        "#Para conectar, vamos importar algumas classes uteis já existente.\n",
        "from langchain_core.messages import SystemMessage, HumanMessage\n",
        "#A biblioteca consegue por si mesmo distinguir as mensagens vindas do usuário (humano) vs vinda do sistema.\n",
        "\n",
        "#Criar o \"Chain próprio\", o fluxo de mensagem.\n",
        "triagem_chain = llm_triagem.with_structured_output(TriagemOut)\n",
        "\n",
        "#\n",
        "def triagem(mensagem: str) -> Dict:\n",
        "  saida : TriagemOut = triagem_chain.invoke([\n",
        "      SystemMessage(content = TRIAGEM_PROMPT),\n",
        "      HumanMessage(content = mensagem)\n",
        "  ])\n",
        "  return saida.model_dump()"
      ],
      "metadata": {
        "id": "X0s6WTLlqoiV"
      },
      "execution_count": 10,
      "outputs": []
    },
    {
      "cell_type": "code",
      "source": [
        "testes = [\"Posso rembolsar a internet?\",\n",
        "          \"Quero mais 5 dias de trabalho remoto, Como faço?\",\n",
        "          \"Posso reembolsar curso ou treinamento da Alura?\",\n",
        "          \"Quantas capivaras tem no Rio Pinheiro?\"]"
      ],
      "metadata": {
        "id": "roQylTJsuBSz"
      },
      "execution_count": 13,
      "outputs": []
    },
    {
      "cell_type": "code",
      "source": [
        "for msg_teste in testes:\n",
        "  print(f'Pergunta: {msg_teste}\\n -> Resposta {triagem(msg_teste)}\\n')\n",
        ""
      ],
      "metadata": {
        "colab": {
          "base_uri": "https://localhost:8080/"
        },
        "id": "aBA-XjA0uoVr",
        "outputId": "1d8a1b12-5d43-4bbd-d984-e7f110b6e01d"
      },
      "execution_count": 14,
      "outputs": [
        {
          "output_type": "stream",
          "name": "stdout",
          "text": [
            "Pergunta: Posso rembolsar a internet?\n",
            " -> Resposta {'decisao': 'AUTO_RESOLVER', 'urgencia': 'BAIXA', 'campo_faltante': []}\n",
            "\n",
            "Pergunta: Quero mais 5 dias de trabalho remoto, Como faço?\n",
            " -> Resposta {'decisao': 'ABRIR_CHAMADO', 'urgencia': 'MEDIA', 'campo_faltante': []}\n",
            "\n",
            "Pergunta: Posso reembolsar curso ou treinamento da Alura?\n",
            " -> Resposta {'decisao': 'AUTO_RESOLVER', 'urgencia': 'BAIXA', 'campo_faltante': []}\n",
            "\n",
            "Pergunta: Quantas capivaras tem no Rio Pinheiro?\n",
            " -> Resposta {'decisao': 'PEDIR_INFO', 'urgencia': 'BAIXA', 'campo_faltante': ['contexto relacionado a políticas internas da empresa']}\n",
            "\n"
          ]
        }
      ]
    }
  ]
}