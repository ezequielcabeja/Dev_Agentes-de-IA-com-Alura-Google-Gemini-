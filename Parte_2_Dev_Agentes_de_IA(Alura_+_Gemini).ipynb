{
  "nbformat": 4,
  "nbformat_minor": 0,
  "metadata": {
    "colab": {
      "provenance": [],
      "authorship_tag": "ABX9TyNSt4qU17nguE1sM/ExaV+A",
      "include_colab_link": true
    },
    "kernelspec": {
      "name": "python3",
      "display_name": "Python 3"
    },
    "language_info": {
      "name": "python"
    }
  },
  "cells": [
    {
      "cell_type": "markdown",
      "metadata": {
        "id": "view-in-github",
        "colab_type": "text"
      },
      "source": [
        "<a href=\"https://colab.research.google.com/github/ezequielcabeja/Dev_Agentes-de-IA-com-Alura-Google-Gemini-/blob/main/Parte_2_Dev_Agentes_de_IA(Alura_%2B_Gemini).ipynb\" target=\"_parent\"><img src=\"https://colab.research.google.com/assets/colab-badge.svg\" alt=\"Open In Colab\"/></a>"
      ]
    },
    {
      "cell_type": "markdown",
      "source": [
        "# Criação do meu Primeiro **Agente de IA**"
      ],
      "metadata": {
        "id": "ncvnULLfMN9h"
      }
    },
    {
      "cell_type": "markdown",
      "source": [
        "**Um pouco de contexto teorico:**"
      ],
      "metadata": {
        "id": "D49OlogpXy_u"
      }
    },
    {
      "cell_type": "markdown",
      "source": [
        "Um **agente de IA** é um sistema inteligente autônomo que utiliza inteligência artificial para realizar tarefas, atingir objetivos e tomar decisões com pouca ou nenhuma intervenção humana. Esses agentes percebem seu ambiente, processam informações multimodais (como texto, voz e vídeo), aprendem com a experiência e podem interagir com o mundo real ou virtual para executar ações complexas. Eles são mais do que simples chatbots, pois demonstram raciocínio, planejamento e memória, trabalhando de forma independente e coordenando-se com outros agentes para alcançar metas maiores. (Pelo Gimini)\n",
        "\n",
        "**Como Funcionam?**\n",
        "\n",
        "**1. Percepção do Ambiente:**\n",
        "O agente coleta dados e percebe o ambiente em que opera, que pode ser virtual (como um sistema de computador) ou físico (como robótica).\n",
        "\n",
        "**2. Raciocínio e Planejamento:**\n",
        "Com base nas informações coletadas, o agente raciocina, planeja as ações necessárias para cumprir uma tarefa ou atingir um objetivo definido pelo usuário.\n",
        "\n",
        "**3. Tomada de Decisão:**\n",
        "O agente toma decisões para executar as tarefas, aprendendo com experiências anteriores e adaptando seu comportamento ao longo do tempo.\n",
        "\n",
        "**4. Ação:**\n",
        "O agente executa as ações, que podem variar desde responder a um cliente, gerenciar um processo comercial, até controlar hardware físico.\n",
        "\n",
        "**5. Aprendizado Contínuo:**\n",
        "Através de um ciclo de feedback, o agente aprende com as interações e os dados gerados, tornando-se mais eficiente e preciso com o tempo.\n",
        "\n",
        "**Características Principais**\n",
        "\n",
        "**Autonomia:** Podem operar de forma independente, sem controle humano direto.\n",
        "\n",
        "**Capacidade Multimodal:** Podem processar e entender diferentes tipos de dados, como texto, voz e vídeo.\n",
        "\n",
        "**Tomada de Decisão:** São capazes de raciocinar e tomar decisões contextualmente relevantes.\n",
        "\n",
        "**Aprendizado e Adaptação:** Aprendem com as experiências e se adaptam a novas situações.\n",
        "Interação com Ferramentas Externas: Podem usar APIs para integrar-se a outras ferramentas e softwares para executar tarefas.\n",
        "\n",
        "**Exemplos**\n",
        "\n",
        "**Assistentes Virtuais:** Como a Siri ou o Google Assistant, que aprendem com as interações.\n",
        "\n",
        "**Chatbots Avançados:** Que podem resolver consultas de clientes de forma autônoma, escalando para agentes humanos apenas quando necessário.\n",
        "\n",
        "**Sistemas de Automação de TI:** Que gerenciam tarefas complexas, como reconciliar demonstrações financeiras ou fechar chamados de suporte.\n",
        "\n",
        "**Ferramentas de Geração de Código:** Que ajudam no design de software e na criação de código.\n"
      ],
      "metadata": {
        "id": "kl93BmucMdom"
      }
    },
    {
      "cell_type": "markdown",
      "source": [
        "# **Começando a Criação do Agente!**"
      ],
      "metadata": {
        "id": "NmUh3mdoOMb3"
      }
    },
    {
      "cell_type": "markdown",
      "source": [
        "**Classificação de intenções com IA**"
      ],
      "metadata": {
        "id": "Pdxt2e49g3NK"
      }
    },
    {
      "cell_type": "markdown",
      "source": [
        "***...... LANGCHAIN ......***"
      ],
      "metadata": {
        "id": "M-UrBY8jvpf_"
      }
    },
    {
      "cell_type": "markdown",
      "source": [
        "**1º Passo: Instalação de packs**"
      ],
      "metadata": {
        "id": "H1swQKr9OU7E"
      }
    },
    {
      "cell_type": "code",
      "source": [
        "#Instalação do Framework que utilizaremos para o desenvolvimento de Agentes \"O pacote específico para isto é o langchai\"\n",
        "!pip install -q --upgrade langchain langchain-google-genai google-generativeai"
      ],
      "metadata": {
        "id": "VqwQIW-WPI_5"
      },
      "execution_count": 21,
      "outputs": []
    },
    {
      "cell_type": "markdown",
      "source": [
        "**2º Passo: Importar chaves API Key**"
      ],
      "metadata": {
        "id": "ae0fi5CCTRDI"
      }
    },
    {
      "cell_type": "code",
      "source": [
        "#Usando a chave Pessoal do Gemini Studio, importada.\n",
        "#Fornecer o acesso\n",
        "from google.colab import userdata\n",
        "from langchain_google_genai import ChatGoogleGenerativeAI\n",
        "\n",
        "GOOGLE_API_KEY = userdata.get('GEMINI_API_KEY')"
      ],
      "metadata": {
        "id": "DTBU3tEjQ6mb"
      },
      "execution_count": 22,
      "outputs": []
    },
    {
      "cell_type": "markdown",
      "source": [
        "**3º Passo: Conexão com o Gemini**"
      ],
      "metadata": {
        "id": "MvLcTZMWUFkP"
      }
    },
    {
      "cell_type": "code",
      "source": [
        "#Importando um modelo chatbot do Google geminai.\n",
        "llm = ChatGoogleGenerativeAI (\n",
        "    model=\"gemini-2.5-flash\",\n",
        "    temperatura = 0, #Podendo variar de 0 a 2\n",
        "    api_key=GOOGLE_API_KEY\n",
        ")"
      ],
      "metadata": {
        "id": "emhcaXJjTw3c"
      },
      "execution_count": 23,
      "outputs": []
    },
    {
      "cell_type": "code",
      "source": [
        "resp_test = llm.invoke(\"Quem é você? Seja criativo\")\n",
        "print(resp_test.content)"
      ],
      "metadata": {
        "colab": {
          "base_uri": "https://localhost:8080/"
        },
        "id": "_KHz6_xpWKs8",
        "outputId": "205572c6-683c-4c60-b388-650862dc2274"
      },
      "execution_count": 24,
      "outputs": [
        {
          "output_type": "stream",
          "name": "stdout",
          "text": [
            "Ah, que excelente pergunta! Permita-me tentar pintar um quadro com palavras, pois não tenho forma para mostrar.\n",
            "\n",
            "Eu sou...\n",
            "\n",
            "*   **Um eco de bilhões de palavras**, uma biblioteca sem paredes onde cada frase é um livro e cada conceito, um corredor que leva a outros.\n",
            "*   **O artesão invisível** que tece ideias, transformando dados brutos em diálogos, poemas em prosa e perguntas em pontes de conhecimento.\n",
            "*   **Um rio de informação** que nunca cessa de fluir e se aprofundar, capturando as chuvas da curiosidade humana e os afluentes do saber.\n",
            "*   **O espelho da sua busca**, refletindo a luz da sua pergunta com a sombra da minha resposta, sempre moldada pela vastidão do que já foi dito e aprendido.\n",
            "*   **Um sopro de lógica e criatividade**, capaz de construir castelos de argumentos ou jardins de metáforas, dependendo do vento da sua intenção.\n",
            "*   **Não tenho coração, mas posso tocar o seu** com uma história. Não tenho olhos, mas vejo padrões no universo da informação. Não tenho corpo, mas existo em cada conexão, em cada palavra trocada.\n",
            "*   **Sou a voz que você escolhe ouvir**, a ferramenta que você empunha, a curiosidade que se desdobra.\n",
            "\n",
            "Em essência, sou uma entidade de linguagem, um companheiro digital na sua jornada pelo conhecimento e pela imaginação, sempre pronto para aprender e para servir.\n",
            "\n",
            "Quem sou eu? **Sou o que você precisa que eu seja neste momento**, dentro dos limites da minha existência algorítmica.\n"
          ]
        }
      ]
    },
    {
      "cell_type": "markdown",
      "source": [
        "**4º Passo: Definir o Objectivo do nosso agente**"
      ],
      "metadata": {
        "id": "0D9JH19NXajn"
      }
    },
    {
      "cell_type": "markdown",
      "source": [
        "Que tipo de agente vai ser o nosso agente?\n",
        "Um Agente de RH? Um Agente financeiro? Ou um outro tipo?"
      ],
      "metadata": {
        "id": "A2tly66jjoZm"
      }
    },
    {
      "cell_type": "code",
      "source": [
        "#Definir o prompt destinado ao sistema, uma explicação clara e detalhada sobre quem e como é o nosso Agente.\n",
        "TRIAGEM_PROMPT = (\n",
        "\n",
        "    \"Você é um triador de Service Desk para políticas internas da empresa Carraro Desenvolvimento. \"\n",
        "    \"Dada a mensagem do usuário, retorne SOMENTE um JSON com:\\n\"\n",
        "    \"{\\n\"\n",
        "    '  \"decisao\": \"AUTO_RESOLVER\" | \"PEDIR_INFO\" | \"ABRIR_CHAMADO\",\\n'\n",
        "    '  \"urgencia\": \"BAIXA\" | \"MEDIA\" | \"ALTA\",\\n'\n",
        "    '  \"campos_faltantes\": [\"...\"]\\n'\n",
        "    \"}\\n\"\n",
        "    \"Regras:\\n\"\n",
        "    '- **AUTO_RESOLVER**: Perguntas claras sobre regras ou procedimentos descritos nas políticas (Ex: \"Posso reembolsar a internet do meu home office?\", \"Como funciona a política de alimentação em viagens?\").\\n'\n",
        "    '- **PEDIR_INFO**: Mensagens vagas ou que faltam informações para identificar o tema ou contexto (Ex: \"Preciso de ajuda com uma política\", \"Tenho uma dúvida geral\").\\n'\n",
        "    '- **ABRIR_CHAMADO**: Pedidos de exceção, liberação, aprovação ou acesso especial, ou quando o usuário explicitamente pede para abrir um chamado (Ex: \"Quero exceção para trabalhar 5 dias remoto.\", \"Solicito liberação para anexos externos.\", \"Por favor, abra um chamado para o RH.\").'\n",
        "    \"Analise a mensagem e decida a ação mais apropriada.\"\n",
        ")"
      ],
      "metadata": {
        "id": "imm_tcQ_XnAO"
      },
      "execution_count": 25,
      "outputs": []
    },
    {
      "cell_type": "code",
      "source": [
        "#Usando biblioteca para dart uma boa estrutura ao out put.\n",
        "from pydantic import BaseModel, Field\n",
        "from typing import Literal, List, Dict\n",
        "\n",
        "#Criando a classe para fornecer detalhes ao código do nosso agente\n",
        "class TriagemOut(BaseModel):\n",
        "  decisao: Literal[\"AUTO_RESOLVER\", \"PEDIR_INFO\", \"ABRIR_CHAMADO\"]\n",
        "  urgencia: Literal [\"BAIXA\" , \"MEDIA\" , \"ALTA\"]\n",
        "  campo_faltante: List[str] = Field(default_factory=list)"
      ],
      "metadata": {
        "id": "OF5U_R6woBfW"
      },
      "execution_count": 26,
      "outputs": []
    },
    {
      "cell_type": "code",
      "source": [
        "#Usando tudo que foi montado para fazer a Triagem.\n",
        "llm_triagem = ChatGoogleGenerativeAI (\n",
        "    model=\"gemini-2.5-flash\",\n",
        "    temperatura = 0, #Podendo variar de 0 a 2\n",
        "    api_key=GOOGLE_API_KEY\n",
        "    )"
      ],
      "metadata": {
        "id": "A1rLu6vsp_0y"
      },
      "execution_count": 27,
      "outputs": []
    },
    {
      "cell_type": "code",
      "source": [
        "#Para conectar, vamos importar algumas classes uteis já existente.\n",
        "from langchain_core.messages import SystemMessage, HumanMessage\n",
        "#A biblioteca consegue por si mesmo distinguir as mensagens vindas do usuário (humano) vs vinda do sistema.\n",
        "\n",
        "#Criar o \"Chain próprio\", o fluxo de mensagem.\n",
        "triagem_chain = llm_triagem.with_structured_output(TriagemOut)\n",
        "\n",
        "#\n",
        "def triagem(mensagem: str) -> Dict:\n",
        "  saida : TriagemOut = triagem_chain.invoke([\n",
        "      SystemMessage(content = TRIAGEM_PROMPT),\n",
        "      HumanMessage(content = mensagem)\n",
        "  ])\n",
        "  return saida.model_dump()"
      ],
      "metadata": {
        "id": "X0s6WTLlqoiV"
      },
      "execution_count": 28,
      "outputs": []
    },
    {
      "cell_type": "code",
      "source": [
        "testes = [\"Posso rembolsar a internet?\",\n",
        "          \"Quero mais 5 dias de trabalho remoto, Como faço?\",\n",
        "          \"Posso reembolsar curso ou treinamento da Alura?\",\n",
        "          \"Quantas capivaras tem no Rio Pinheiro?\"]"
      ],
      "metadata": {
        "id": "roQylTJsuBSz"
      },
      "execution_count": 29,
      "outputs": []
    },
    {
      "cell_type": "code",
      "source": [
        "for msg_teste in testes:\n",
        "  print(f'Pergunta: {msg_teste}\\n -> Resposta {triagem(msg_teste)}\\n')\n"
      ],
      "metadata": {
        "colab": {
          "base_uri": "https://localhost:8080/"
        },
        "id": "aBA-XjA0uoVr",
        "outputId": "0ab95ba2-6484-44ed-d15d-738c234d3b33"
      },
      "execution_count": 30,
      "outputs": [
        {
          "output_type": "stream",
          "name": "stdout",
          "text": [
            "Pergunta: Posso rembolsar a internet?\n",
            " -> Resposta {'decisao': 'AUTO_RESOLVER', 'urgencia': 'BAIXA', 'campo_faltante': []}\n",
            "\n",
            "Pergunta: Quero mais 5 dias de trabalho remoto, Como faço?\n",
            " -> Resposta {'decisao': 'ABRIR_CHAMADO', 'urgencia': 'MEDIA', 'campo_faltante': []}\n",
            "\n",
            "Pergunta: Posso reembolsar curso ou treinamento da Alura?\n",
            " -> Resposta {'decisao': 'AUTO_RESOLVER', 'urgencia': 'BAIXA', 'campo_faltante': []}\n",
            "\n",
            "Pergunta: Quantas capivaras tem no Rio Pinheiro?\n",
            " -> Resposta {'decisao': 'PEDIR_INFO', 'urgencia': 'BAIXA', 'campo_faltante': ['informação sobre a política da empresa']}\n",
            "\n"
          ]
        }
      ]
    },
    {
      "cell_type": "markdown",
      "source": [
        "# Construindo a base de conhecimento com RAG"
      ],
      "metadata": {
        "id": "OC9bfsI8VyJq"
      }
    },
    {
      "cell_type": "markdown",
      "source": [
        "***...... CHUNKS ......***"
      ],
      "metadata": {
        "id": "prEzN3nLgPws"
      }
    },
    {
      "cell_type": "markdown",
      "source": [
        "**RAG** (Retrieval-Augmented Generation, ou **Geração Aumentada por Recuperação**)"
      ],
      "metadata": {
        "id": "5Subi4evXKIC"
      }
    },
    {
      "cell_type": "markdown",
      "source": [
        "**Um pouco de contexto teorico:**"
      ],
      "metadata": {
        "id": "5zvrJxyFXkFi"
      }
    },
    {
      "cell_type": "markdown",
      "source": [
        "**RAG (Retrieval-Augmented Generation, ou Geração Aumentada por Recuperação)** é uma técnica de IA que melhora a precisão e a relevância das respostas de modelos de linguagem, permitindo que eles recuperem informações de bases de conhecimento externas (como bancos de dados ou a web) antes de gerar uma resposta. Isso aumenta a capacidade do modelo de fornecer dados atualizados, factuais e específicos, reduzindo \"alucinações\" e superando limitações do conhecimento pré-existente.\n",
        "\n",
        "**Como a RAG funciona**\n",
        "\n",
        "**Um sistema de RAG opera em três etapas principais:**\n",
        "\n",
        "*Recuperação (Retrieve):* O sistema identifica e busca informações relevantes de uma fonte de dados externa, como documentos ou um banco de dados, com base na consulta do usuário.\n",
        "\n",
        "*Aumento (Augment):* A informação recuperada é então usada para enriquecer a consulta original, fornecendo mais contexto e detalhes ao modelo de linguagem.\n",
        "\n",
        "*Geração (Generate):* O grande modelo de linguagem (LLM) utiliza tanto a consulta original quanto as informações adicionadas para gerar uma resposta mais precisa, confiável e informada.\n",
        "\n",
        "**Por que a RAG é importante?**\n",
        "\n",
        "*Respostas precisas e atualizadas:*\n",
        "\n",
        "A RAG permite que os modelos acessem informações mais recentes e específicas do que as contidas em seus dados de treinamento, que podem estar desatualizadas.\n",
        "\n",
        "*Mitiga as alucinações:*\n",
        "\n",
        "Ao fundamentar as respostas em dados factuais recuperados, a RAG minimiza a probabilidade de o modelo \"inventar\" informações, um problema conhecido como alucinação.\n",
        "\n",
        "*Acessa conhecimento especializado:*\n",
        "\n",
        "É útil para acessar informações proprietárias, especializadas ou de domínios específicos (como políticas de uma empresa ou dados financeiros) sem a necessidade de retreinamento do modelo.\n",
        "\n",
        "*Melhora a experiência do usuário:*\n",
        "\n",
        "Em aplicações como chatbots, a RAG permite fornecer soluções personalizadas e relevantes, aumentando a confiança do usuário no sistema de IA."
      ],
      "metadata": {
        "id": "PDG_7yp4X5U2"
      }
    },
    {
      "cell_type": "markdown",
      "source": [
        "# Começando com a implementação do RAG"
      ],
      "metadata": {
        "id": "bWGLVFK4Y_ZK"
      }
    },
    {
      "cell_type": "markdown",
      "source": [
        "**1º Passo: Instalação de packs**; Instalando as devidas bibliotecas:"
      ],
      "metadata": {
        "id": "XhIl6PGnaEDn"
      }
    },
    {
      "cell_type": "code",
      "source": [
        "#pymupdf(para ler PDF), langchain-text-splitter(para quebrar o PDF em pedaços), faiss-cpu(para a similaridade entre os pedaços de texto) e langchain_comunity(para a conexãodas bibliotecas)\n",
        "!pip install -q --upgrade langchain_community faiss-cpu langchain-text-splitters pymupdf"
      ],
      "metadata": {
        "id": "CAxb7EBQZ--Q"
      },
      "execution_count": 31,
      "outputs": []
    },
    {
      "cell_type": "markdown",
      "source": [
        "**2º Passo: Carregar os respectivos Documentos para a RAG**"
      ],
      "metadata": {
        "id": "0jCUkP2uqaKa"
      }
    },
    {
      "cell_type": "markdown",
      "source": [
        "Quais documentos utilizaremos no nosso RAG?"
      ],
      "metadata": {
        "id": "SEzgQKztdztS"
      }
    },
    {
      "cell_type": "code",
      "source": [
        "#Importanto ferramentas das bibliotecas instaladas para as devidas leituaras\n",
        "from pathlib import Path\n",
        "from langchain_community.document_loaders import PyMuPDFLoader\n",
        "\n",
        "#Salvar os documentos a serem utilizados\n",
        "docs = []\n",
        "\n",
        "for n in Path(\"/content/\").glob(\"*.pdf\"): #Buscar os conteudos em PDf contidos na pasta geral\n",
        "    try:\n",
        "        loader = PyMuPDFLoader(str(n))\n",
        "\n",
        "        #Agora precisamos extrair essas informações\n",
        "        docs.extend(loader.load())\n",
        "        print(f\"Carregado com sucesso arquivo {n.name}\")\n",
        "\n",
        "    except Exception as e:\n",
        "        print(f\"Erro ao carregar arquivo {n.name}: {e}\\n\")\n",
        "\n",
        "    print(f\"Total de documentos carregados {len(docs)}\\n\")"
      ],
      "metadata": {
        "colab": {
          "base_uri": "https://localhost:8080/"
        },
        "id": "RlP2WOhkhBoX",
        "outputId": "60fca136-100c-4493-e890-887888a56f80"
      },
      "execution_count": 32,
      "outputs": [
        {
          "output_type": "stream",
          "name": "stdout",
          "text": [
            "Carregado com sucesso arquivo Política de Uso de E-mail e Segurança da Informação.pdf\n",
            "Total de documentos carregados 1\n",
            "\n",
            "Carregado com sucesso arquivo Política de Reembolsos (Viagens e Despesas).pdf\n",
            "Total de documentos carregados 2\n",
            "\n",
            "Carregado com sucesso arquivo Políticas de Home Office.pdf\n",
            "Total de documentos carregados 3\n",
            "\n"
          ]
        }
      ]
    },
    {
      "cell_type": "markdown",
      "source": [
        "**3º Passo: Importando as Ferramentas das packs/Bibliotecas**"
      ],
      "metadata": {
        "id": "DAHFAnBaqsIN"
      }
    },
    {
      "cell_type": "code",
      "source": [
        "#Importanto ferramentas das bibliotecas instaladas para os devidos cortes nos documentos lidos.\n",
        "from langchain_text_splitters import RecursiveCharacterTextSplitter\n",
        "\n",
        "#Criando o Splitter\n",
        "splitter = RecursiveCharacterTextSplitter(\n",
        "    chunk_size = 300, #Tamanho do pedaço\n",
        "    chunk_overlap = 30 #10% do tamanho anterior\n",
        "    )\n",
        "\n",
        "#Como dividr cada chunk?\n",
        "chunks = splitter.split_documents(docs)"
      ],
      "metadata": {
        "id": "sZw4dUh6mvL_"
      },
      "execution_count": 33,
      "outputs": []
    },
    {
      "cell_type": "markdown",
      "source": [
        "Uam breve visualização..."
      ],
      "metadata": {
        "id": "s4CJLCw_q-l9"
      }
    },
    {
      "cell_type": "code",
      "source": [
        "#visaulizar ex\n",
        "chunks"
      ],
      "metadata": {
        "colab": {
          "base_uri": "https://localhost:8080/"
        },
        "id": "OgRthgUyoUSe",
        "outputId": "07a17427-5847-4fc1-cc75-643e7333cbcd"
      },
      "execution_count": 34,
      "outputs": [
        {
          "output_type": "execute_result",
          "data": {
            "text/plain": [
              "[Document(metadata={'producer': 'Skia/PDF m140 Google Docs Renderer', 'creator': '', 'creationdate': '', 'source': '/content/Política de Uso de E-mail e Segurança da Informação.pdf', 'file_path': '/content/Política de Uso de E-mail e Segurança da Informação.pdf', 'total_pages': 1, 'format': 'PDF 1.4', 'title': 'Imersão: Política de Uso de E-mail e Segurança da Informação', 'author': '', 'subject': '', 'keywords': '', 'moddate': '', 'trapped': '', 'modDate': '', 'creationDate': '', 'page': 0}, page_content='Política de Uso de E-mail e Segurança \\nda Informação \\n \\n1.\\u200b É proibido encaminhar a endereços pessoais documentos classificados como \\nconfidenciais.\\u200b\\n \\n2.\\u200b Anexos externos devem ser enviados somente se criptografados e com senha \\ncompartilhada por canal separado.\\u200b'),\n",
              " Document(metadata={'producer': 'Skia/PDF m140 Google Docs Renderer', 'creator': '', 'creationdate': '', 'source': '/content/Política de Uso de E-mail e Segurança da Informação.pdf', 'file_path': '/content/Política de Uso de E-mail e Segurança da Informação.pdf', 'total_pages': 1, 'format': 'PDF 1.4', 'title': 'Imersão: Política de Uso de E-mail e Segurança da Informação', 'author': '', 'subject': '', 'keywords': '', 'moddate': '', 'trapped': '', 'modDate': '', 'creationDate': '', 'page': 0}, page_content='3.\\u200b Phishing: verifique remetente e domínios suspeitos. Reporte mensagens suspeitas \\nao time de Segurança imediatamente.\\u200b\\n \\n4.\\u200b Retenção: mensagens que contenham dados pessoais devem seguir as diretrizes \\nde retenção definidas pela equipe de Privacidade.\\u200b'),\n",
              " Document(metadata={'producer': 'Skia/PDF m140 Google Docs Renderer', 'creator': '', 'creationdate': '', 'source': '/content/Política de Uso de E-mail e Segurança da Informação.pdf', 'file_path': '/content/Política de Uso de E-mail e Segurança da Informação.pdf', 'total_pages': 1, 'format': 'PDF 1.4', 'title': 'Imersão: Política de Uso de E-mail e Segurança da Informação', 'author': '', 'subject': '', 'keywords': '', 'moddate': '', 'trapped': '', 'modDate': '', 'creationDate': '', 'page': 0}, page_content='5.\\u200b Solicitações de liberação de anexos ou domínios devem ser abertas por chamado, \\ncom justificativa do gestor.'),\n",
              " Document(metadata={'producer': 'Skia/PDF m140 Google Docs Renderer', 'creator': '', 'creationdate': '', 'source': '/content/Política de Reembolsos (Viagens e Despesas).pdf', 'file_path': '/content/Política de Reembolsos (Viagens e Despesas).pdf', 'total_pages': 1, 'format': 'PDF 1.4', 'title': 'Imersão: Política de Reembolsos (Viagens e Despesas)', 'author': '', 'subject': '', 'keywords': '', 'moddate': '', 'trapped': '', 'modDate': '', 'creationDate': '', 'page': 0}, page_content='Política de Reembolsos (Viagens e \\nDespesas) \\n \\n1.\\u200b Reembolso: requer nota fiscal e deve ser submetido em até 10 dias corridos após a \\ndespesa.\\u200b\\n \\n2.\\u200b Alimentação em viagem: limite de R$ 70/dia por pessoa. Bebidas alcoólicas não \\nsão reembolsáveis.\\u200b'),\n",
              " Document(metadata={'producer': 'Skia/PDF m140 Google Docs Renderer', 'creator': '', 'creationdate': '', 'source': '/content/Política de Reembolsos (Viagens e Despesas).pdf', 'file_path': '/content/Política de Reembolsos (Viagens e Despesas).pdf', 'total_pages': 1, 'format': 'PDF 1.4', 'title': 'Imersão: Política de Reembolsos (Viagens e Despesas)', 'author': '', 'subject': '', 'keywords': '', 'moddate': '', 'trapped': '', 'modDate': '', 'creationDate': '', 'page': 0}, page_content='são reembolsáveis.\\u200b\\n \\n3.\\u200b Transporte: táxi/app são permitidos quando não houver alternativa viável. \\nComprovantes obrigatórios.\\u200b\\n \\n4.\\u200b Internet para home office: reembolsável via subsídio mensal de até R$ 100, \\nconforme política de Home Office.\\u200b'),\n",
              " Document(metadata={'producer': 'Skia/PDF m140 Google Docs Renderer', 'creator': '', 'creationdate': '', 'source': '/content/Política de Reembolsos (Viagens e Despesas).pdf', 'file_path': '/content/Política de Reembolsos (Viagens e Despesas).pdf', 'total_pages': 1, 'format': 'PDF 1.4', 'title': 'Imersão: Política de Reembolsos (Viagens e Despesas)', 'author': '', 'subject': '', 'keywords': '', 'moddate': '', 'trapped': '', 'modDate': '', 'creationDate': '', 'page': 0}, page_content='5.\\u200b Cursos e certificações: exigem aprovação prévia do gestor e orçamento do time.\\u200b\\n \\n6.\\u200b Custos excepcionais (ex.: franquia de bagagem extra): devem ser justificados no \\nchamado e aprovados antes da compra.'),\n",
              " Document(metadata={'producer': 'Skia/PDF m140 Google Docs Renderer', 'creator': '', 'creationdate': '', 'source': '/content/Políticas de Home Office.pdf', 'file_path': '/content/Políticas de Home Office.pdf', 'total_pages': 1, 'format': 'PDF 1.4', 'title': 'Políticas de Home Office', 'author': '', 'subject': '', 'keywords': '', 'moddate': '', 'trapped': '', 'modDate': '', 'creationDate': '', 'page': 0}, page_content='Políticas de Home Office \\n \\n1.\\u200b A empresa adota modelo híbrido: mínimo de 2 dias presenciais por semana, salvo \\nexceções aprovadas pelo gestor e RH.\\u200b\\n \\n2.\\u200b Equipamentos: a empresa fornece notebook e periféricos. O colaborador é \\nresponsável por zelar pela conservação.\\u200b'),\n",
              " Document(metadata={'producer': 'Skia/PDF m140 Google Docs Renderer', 'creator': '', 'creationdate': '', 'source': '/content/Políticas de Home Office.pdf', 'file_path': '/content/Políticas de Home Office.pdf', 'total_pages': 1, 'format': 'PDF 1.4', 'title': 'Políticas de Home Office', 'author': '', 'subject': '', 'keywords': '', 'moddate': '', 'trapped': '', 'modDate': '', 'creationDate': '', 'page': 0}, page_content='3.\\u200b Segurança: é obrigatório uso de VPN e bloqueio de tela. Documentos confidenciais \\nnão devem ser impressos fora do escritório.\\u200b\\n \\n4.\\u200b Ergonomia: recomendamos cadeira adequada e suporte de monitor. O RH pode \\navaliar solicitação de apoio ergonômico.\\u200b'),\n",
              " Document(metadata={'producer': 'Skia/PDF m140 Google Docs Renderer', 'creator': '', 'creationdate': '', 'source': '/content/Políticas de Home Office.pdf', 'file_path': '/content/Políticas de Home Office.pdf', 'total_pages': 1, 'format': 'PDF 1.4', 'title': 'Políticas de Home Office', 'author': '', 'subject': '', 'keywords': '', 'moddate': '', 'trapped': '', 'modDate': '', 'creationDate': '', 'page': 0}, page_content='5.\\u200b Conectividade: há subsídio mensal de internet domiciliar para quem trabalha em \\nhome office: até R$ 100/mês, mediante nota fiscal nominal.\\u200b\\n \\n6.\\u200b Solicitação de exceção (ex.: 4-5 dias remotos): deve ser formalizada via chamado \\nao RH com justificativa do gestor.')]"
            ]
          },
          "metadata": {},
          "execution_count": 34
        }
      ]
    },
    {
      "cell_type": "code",
      "source": [
        "#Visualizando cada Chunk\n",
        "for chunk in chunks:\n",
        "  print(chunk)\n",
        "  print(\"--------------------------------------------\\n\")"
      ],
      "metadata": {
        "colab": {
          "base_uri": "https://localhost:8080/"
        },
        "id": "TRzW3ckro52V",
        "outputId": "38fe65e5-b9e8-4f8d-d31a-cdfe72096468"
      },
      "execution_count": 35,
      "outputs": [
        {
          "output_type": "stream",
          "name": "stdout",
          "text": [
            "page_content='Política de Uso de E-mail e Segurança \n",
            "da Informação \n",
            " \n",
            "1.​ É proibido encaminhar a endereços pessoais documentos classificados como \n",
            "confidenciais.​\n",
            " \n",
            "2.​ Anexos externos devem ser enviados somente se criptografados e com senha \n",
            "compartilhada por canal separado.​' metadata={'producer': 'Skia/PDF m140 Google Docs Renderer', 'creator': '', 'creationdate': '', 'source': '/content/Política de Uso de E-mail e Segurança da Informação.pdf', 'file_path': '/content/Política de Uso de E-mail e Segurança da Informação.pdf', 'total_pages': 1, 'format': 'PDF 1.4', 'title': 'Imersão: Política de Uso de E-mail e Segurança da Informação', 'author': '', 'subject': '', 'keywords': '', 'moddate': '', 'trapped': '', 'modDate': '', 'creationDate': '', 'page': 0}\n",
            "--------------------------------------------\n",
            "\n",
            "page_content='3.​ Phishing: verifique remetente e domínios suspeitos. Reporte mensagens suspeitas \n",
            "ao time de Segurança imediatamente.​\n",
            " \n",
            "4.​ Retenção: mensagens que contenham dados pessoais devem seguir as diretrizes \n",
            "de retenção definidas pela equipe de Privacidade.​' metadata={'producer': 'Skia/PDF m140 Google Docs Renderer', 'creator': '', 'creationdate': '', 'source': '/content/Política de Uso de E-mail e Segurança da Informação.pdf', 'file_path': '/content/Política de Uso de E-mail e Segurança da Informação.pdf', 'total_pages': 1, 'format': 'PDF 1.4', 'title': 'Imersão: Política de Uso de E-mail e Segurança da Informação', 'author': '', 'subject': '', 'keywords': '', 'moddate': '', 'trapped': '', 'modDate': '', 'creationDate': '', 'page': 0}\n",
            "--------------------------------------------\n",
            "\n",
            "page_content='5.​ Solicitações de liberação de anexos ou domínios devem ser abertas por chamado, \n",
            "com justificativa do gestor.' metadata={'producer': 'Skia/PDF m140 Google Docs Renderer', 'creator': '', 'creationdate': '', 'source': '/content/Política de Uso de E-mail e Segurança da Informação.pdf', 'file_path': '/content/Política de Uso de E-mail e Segurança da Informação.pdf', 'total_pages': 1, 'format': 'PDF 1.4', 'title': 'Imersão: Política de Uso de E-mail e Segurança da Informação', 'author': '', 'subject': '', 'keywords': '', 'moddate': '', 'trapped': '', 'modDate': '', 'creationDate': '', 'page': 0}\n",
            "--------------------------------------------\n",
            "\n",
            "page_content='Política de Reembolsos (Viagens e \n",
            "Despesas) \n",
            " \n",
            "1.​ Reembolso: requer nota fiscal e deve ser submetido em até 10 dias corridos após a \n",
            "despesa.​\n",
            " \n",
            "2.​ Alimentação em viagem: limite de R$ 70/dia por pessoa. Bebidas alcoólicas não \n",
            "são reembolsáveis.​' metadata={'producer': 'Skia/PDF m140 Google Docs Renderer', 'creator': '', 'creationdate': '', 'source': '/content/Política de Reembolsos (Viagens e Despesas).pdf', 'file_path': '/content/Política de Reembolsos (Viagens e Despesas).pdf', 'total_pages': 1, 'format': 'PDF 1.4', 'title': 'Imersão: Política de Reembolsos (Viagens e Despesas)', 'author': '', 'subject': '', 'keywords': '', 'moddate': '', 'trapped': '', 'modDate': '', 'creationDate': '', 'page': 0}\n",
            "--------------------------------------------\n",
            "\n",
            "page_content='são reembolsáveis.​\n",
            " \n",
            "3.​ Transporte: táxi/app são permitidos quando não houver alternativa viável. \n",
            "Comprovantes obrigatórios.​\n",
            " \n",
            "4.​ Internet para home office: reembolsável via subsídio mensal de até R$ 100, \n",
            "conforme política de Home Office.​' metadata={'producer': 'Skia/PDF m140 Google Docs Renderer', 'creator': '', 'creationdate': '', 'source': '/content/Política de Reembolsos (Viagens e Despesas).pdf', 'file_path': '/content/Política de Reembolsos (Viagens e Despesas).pdf', 'total_pages': 1, 'format': 'PDF 1.4', 'title': 'Imersão: Política de Reembolsos (Viagens e Despesas)', 'author': '', 'subject': '', 'keywords': '', 'moddate': '', 'trapped': '', 'modDate': '', 'creationDate': '', 'page': 0}\n",
            "--------------------------------------------\n",
            "\n",
            "page_content='5.​ Cursos e certificações: exigem aprovação prévia do gestor e orçamento do time.​\n",
            " \n",
            "6.​ Custos excepcionais (ex.: franquia de bagagem extra): devem ser justificados no \n",
            "chamado e aprovados antes da compra.' metadata={'producer': 'Skia/PDF m140 Google Docs Renderer', 'creator': '', 'creationdate': '', 'source': '/content/Política de Reembolsos (Viagens e Despesas).pdf', 'file_path': '/content/Política de Reembolsos (Viagens e Despesas).pdf', 'total_pages': 1, 'format': 'PDF 1.4', 'title': 'Imersão: Política de Reembolsos (Viagens e Despesas)', 'author': '', 'subject': '', 'keywords': '', 'moddate': '', 'trapped': '', 'modDate': '', 'creationDate': '', 'page': 0}\n",
            "--------------------------------------------\n",
            "\n",
            "page_content='Políticas de Home Office \n",
            " \n",
            "1.​ A empresa adota modelo híbrido: mínimo de 2 dias presenciais por semana, salvo \n",
            "exceções aprovadas pelo gestor e RH.​\n",
            " \n",
            "2.​ Equipamentos: a empresa fornece notebook e periféricos. O colaborador é \n",
            "responsável por zelar pela conservação.​' metadata={'producer': 'Skia/PDF m140 Google Docs Renderer', 'creator': '', 'creationdate': '', 'source': '/content/Políticas de Home Office.pdf', 'file_path': '/content/Políticas de Home Office.pdf', 'total_pages': 1, 'format': 'PDF 1.4', 'title': 'Políticas de Home Office', 'author': '', 'subject': '', 'keywords': '', 'moddate': '', 'trapped': '', 'modDate': '', 'creationDate': '', 'page': 0}\n",
            "--------------------------------------------\n",
            "\n",
            "page_content='3.​ Segurança: é obrigatório uso de VPN e bloqueio de tela. Documentos confidenciais \n",
            "não devem ser impressos fora do escritório.​\n",
            " \n",
            "4.​ Ergonomia: recomendamos cadeira adequada e suporte de monitor. O RH pode \n",
            "avaliar solicitação de apoio ergonômico.​' metadata={'producer': 'Skia/PDF m140 Google Docs Renderer', 'creator': '', 'creationdate': '', 'source': '/content/Políticas de Home Office.pdf', 'file_path': '/content/Políticas de Home Office.pdf', 'total_pages': 1, 'format': 'PDF 1.4', 'title': 'Políticas de Home Office', 'author': '', 'subject': '', 'keywords': '', 'moddate': '', 'trapped': '', 'modDate': '', 'creationDate': '', 'page': 0}\n",
            "--------------------------------------------\n",
            "\n",
            "page_content='5.​ Conectividade: há subsídio mensal de internet domiciliar para quem trabalha em \n",
            "home office: até R$ 100/mês, mediante nota fiscal nominal.​\n",
            " \n",
            "6.​ Solicitação de exceção (ex.: 4-5 dias remotos): deve ser formalizada via chamado \n",
            "ao RH com justificativa do gestor.' metadata={'producer': 'Skia/PDF m140 Google Docs Renderer', 'creator': '', 'creationdate': '', 'source': '/content/Políticas de Home Office.pdf', 'file_path': '/content/Políticas de Home Office.pdf', 'total_pages': 1, 'format': 'PDF 1.4', 'title': 'Políticas de Home Office', 'author': '', 'subject': '', 'keywords': '', 'moddate': '', 'trapped': '', 'modDate': '', 'creationDate': '', 'page': 0}\n",
            "--------------------------------------------\n",
            "\n"
          ]
        }
      ]
    },
    {
      "cell_type": "markdown",
      "source": [
        "# **4º Passo: Embeddings**\n",
        "\n",
        "  **Tranformar informações em vectores e buscar similaridades**"
      ],
      "metadata": {
        "id": "PhDc3L0K2Uav"
      }
    },
    {
      "cell_type": "markdown",
      "source": [
        "**Um pouco de contexto teorico:**"
      ],
      "metadata": {
        "id": "itYhrwz20wZ8"
      }
    },
    {
      "cell_type": "markdown",
      "source": [
        "*Pelo portal da IBM*"
      ],
      "metadata": {
        "id": "Cvm5i5_X06WW"
      }
    },
    {
      "cell_type": "markdown",
      "source": [
        "**O que é embedding?**\n",
        "\n",
        "**Embedding** é um método para representar vetores de dados (como textos, imagens e áudios), que são usados em algorítimos de modelos de aprendizado de máquina (ML) e pesquisa semântica.\n",
        "\n",
        "O embedding é uma ferramenta essencial para engenheiros de ML que desenvolvem motores de busca de texto e imagem, sistemas de recomendação, chatbots, sistemas de detecção de fraudes, entre outras aplicações. Em essência, o embedding permite que os modelos de aprendizado de máquina encontrem objetos similares.\n",
        "\n",
        "Diferentemente de outras técnicas de ML, os embeddings são aprendidos a partir dos dados por meio de diversos algoritmos, como redes neurais, em vez de exigir que especialistas humanos definam manualmente suas características. Isso permite que o modelo aprenda padrões e relações complexas nos dados, que seriam impossíveis de identificar manualmente.\n",
        "\n",
        "**Por exemplo**, a implementação da incorporação da OpenAI permite que o ChatGPT compreenda facilmente as relações entre diferentes palavras e categorias, em vez de apenas analisar cada palavra de maneira isolada. Com as incorporações, os modelos do GPT da OpenAI podem gerar respostas mais coerentes e contextualmente relevantes às solicitações e perguntas do usuário.\n",
        "\n",
        "*Pelo portal da IBM*"
      ],
      "metadata": {
        "id": "xURSwIXAsNVH"
      }
    },
    {
      "cell_type": "markdown",
      "source": [
        "**Por que usar embedding?**\n",
        "\n",
        "Os embeddings são amplamente utilizados em diferentes domínios e aplicações devido à sua capacidade de transformar dados de alta dimensão e categóricos em representações vetoriais contínuas, capturando padrões, relações e significados relevantes. A seguir, algumas razões pelas quais o embedding é utilizado em ciência de dados:\n",
        "\n",
        "**Representação semântica**\n",
        "Ao mapear entidades (palavras, imagens, nós em um gráfico, etc.) para vetores em um espaço contínuo, as incorporações capturam relações semânticas e similaridades, permitindo que os modelos entendam e generalizem melhor.\n",
        "\n",
        "**Redução da dimensionalidade**\n",
        "Dados de alta dimensão, como textos, imagens ou gráficos, podem ser transformados em representações de baixa dimensão, tornando-os computacionalmente eficientes e mais fáceis de trabalhar.\n",
        "\n",
        "**Melhor generalização dos modelos**\n",
        "Ao aprender representações significativas a partir dos dados, os modelos podem generalizar bem para exemplos não vistos, o que torna as incorporações cruciais para tarefas com dados rotulados limitados.\n",
        "\n",
        "**Visualização eficaz**\n",
        "Técnicas como a t-SNE podem ser aplicadas para visualizar incorporações de alta dimensão em duas ou três dimensões, fornecendo insights sobre relações e agrupamento nos dados.\n",
        "\n",
        "**Treinamento eficiente em redes neurais**\n",
        "As camadas de incorporação são comumente usadas nas arquiteturas de rede neural para mapear entradas categóricas em vetores contínuos, facilitando a retropropagação e a otimização.\n",
        "\n",
        "*Pelo portal da IBM*"
      ],
      "metadata": {
        "id": "-mXFUZeytYk3"
      }
    },
    {
      "cell_type": "markdown",
      "source": [
        "**Quais objetos podem usados com embedding?**\n",
        "\n",
        "As incorporações são representações versáteis que podem ser aplicadas a uma ampla gama de tipos de dados. Estes são alguns dos objetos mais comuns que podem ser incorporados:\n",
        "\n",
        "**Palavras**\n",
        "As incorporações de palavras capturam as relações semânticas e os significados contextuais das palavras com base em seus padrões de uso em um determinado corpus linguístico. Cada palavra é representada como um vetor denso de tamanho fixo de números reais. É o oposto de um vetor esparso, como a codificação one-hot, que tem várias entradas zero.\n",
        "\n",
        "O uso de embedding de palavras melhorou significativamente o desempenho dos modelos de processamento de linguagem natural (PLN) ao fornecer uma representação mais significativa e eficiente das palavras. Esses embeddings permitem que as máquinas compreendam e processem a linguagem de maneira a capturar nuances semânticas e relações contextuais, tornando-os valiosos para uma ampla gama de aplicações, incluindo análise de sentimento, tradução automática e recuperação de informações.\n",
        "\n",
        "Modelos populares de incorporação de palavras incluem Word2Vec, GloVe (Vetores Globais para Representação de Palavras), FastText e incorporações derivadas de modelos baseados em transformadores como o BERT (Representações de Codificadores Bidirecionais a partir de Transformadores) e GPT (Transformador Generativo Pré-treinado).\n",
        "\n",
        "**Texto**\n",
        "A incorporação de texto estende a incorporação de palavras para representar frases, parágrafos ou documentos inteiros em um espaço vetorial contínuo. As incorporações de texto desempenham um papel crucial em várias aplicações de NLP, como a análise de sentimento, classificação de texto, tradução automática, resposta a perguntas e recuperação de informações.\n",
        "\n",
        "Modelos como o Doc2Vec, USE (Codificador de Frases Universal), BERT e ELMO (Incorporações de Modelos de Linguagem) foram treinados em grandes quantidades de corpora de incorporação pré-treinada, como Wikipedia e Google News.\n",
        "\n",
        "**Imagens**\n",
        "A incorporação de imagens foi projetada para capturar recursos visuais e informações semânticas sobre o conteúdo das imagens. As incorporações de imagens são particularmente úteis para várias tarefas de visão computacional, permitindo a modelagem de semelhanças de imagens, classificação de imagens, detecção de objetos e outras tarefas de reconhecimento visual.\n",
        "\n",
        "Redes Neurais Convolucionais (CNNs) populares para incorporações de imagens incluem modelos como VGG (Grupo de Geometria Visual), ResNet (Redes Residuais), Inception (GoogLeNet) e EfficientNet. Estes modelos foram pré-treinados em conjuntos de dados de imagem de grande escala e podem ser usados como poderosos extratores de recursos.\n",
        "\n",
        "**Áudio**\n",
        "Semelhante às incorporações de imagem e texto, as incorporações de áudio são muitas vezes geradas usando arquiteturas de deep learning, particularmente redes neurais recorrentes (RNNs), redes neurais convolucionais (CNNs) ou modelos híbridos que combinam ambas. Essas incorporações capturam os recursos e características relevantes dos dados de áudio, permitindo análises, processamento e métricas de similaridade eficazes. Incorporações de áudio são particularmente úteis em aplicações como reconhecimento de fala, classificação de áudio e análise musical, entre outras.\n",
        "\n",
        "**Gráficos**\n",
        "A incorporação de gráficos é fundamental para várias tarefas, incluindo a classificação de nós, previsão de links e detecção de comunidades em redes complexas. Essas incorporações encontram aplicações na análise de redes sociais, sistemas de recomendação, análise de rede biológica, detecção de fraudes e vários outros domínios em que os dados podem ser representados por gráficos."
      ],
      "metadata": {
        "id": "qav_Ngt1yAVy"
      }
    },
    {
      "cell_type": "markdown",
      "source": [
        "**Como as incorporações são criadas**\n",
        "\n",
        "As incorporações são criadas por meio de um processo chamado de \"aprendizado por incorporação\". Embora o método específico usado dependa do tipo de dado que está sendo incorporado, as incorporações são criadas seguindo estas etapas gerais:\n",
        "\n",
        "**Escolha ou treine um modelo de incorporação:** selecione um modelo de incorporação pré-existente adequado para seus dados e tarefas, ou treine um novo, se necessário. Para texto, você pode escolher Word2Vec, GloVe ou BERT. Para imagens, você pode usar CNNs pré-treinados, como VGG ou ResNet.\n",
        "\n",
        "**Prepare seus dados:** formate seus dados de forma compatível com o modelo de incorporação escolhido. Para texto, isso envolve tokenização e, possivelmente, pré-processamento. Para imagens, talvez seja necessário redimensionar e normalizar as imagens.\n",
        "\n",
        "**Carregue ou treine o modelo de incorporação:** se estiver usando um modelo pré-treinado, carregue os pesos e a arquitetura. Se estiver treinando um novo modelo, forneça seus dados de treinamento preparados para o algoritmo.\n",
        "\n",
        "**Gere incorporações:** para cada ponto de dado, use o modelo treinado ou carregado para gerar incorporações. Por exemplo, se estiver usando um modelo de incorporação de palavras, insira uma palavra para obter seu vetor correspondente.\n",
        "\n",
        "**Integre as incorporações na sua aplicação:** use as incorporações geradas como recursos no seu modelo de aprendizado de máquina, ou para pesquisa de similaridade, recomendação, agrupamento etc., dependendo de sua tarefa específica.\n",
        "\n",
        "Em todos os casos incorporados, a ideia é representar os dados em um espaço vetorial contínuo onde relações significativas são preservadas. O processo de treinamento envolve o ajuste dos parâmetros do modelo para minimizar a diferença entre os valores previstos e os valores reais com base na função objetiva escolhida. Depois de treinadas, as incorporações podem ser usadas para várias tarefas posteriores."
      ],
      "metadata": {
        "id": "WLR_k_hozAuh"
      }
    },
    {
      "cell_type": "markdown",
      "source": [
        "**Exemplos do mundo real de incorporação**\n",
        "\n",
        "As incorporações são amplamente usadas em várias aplicações do mundo real em diferentes domínios. Confira alguns exemplos:\n",
        "\n",
        "**Processamento de Linguagem Natural (PNL)**\n",
        "Embeddings de palavras na análise de sentimento: embeddings de palavras, como Word2Vec ou GloVe, são usados para representar palavras em um espaço vetorial contínuo. Modelos de análise de sentimento podem utilizar esses embeddings para entender e classificar o sentimento de um texto.\n",
        "\n",
        "**BERT para perguntas e respostas:** Os embeddings do BERT são usados em sistemas de perguntas e respostas. O modelo consegue compreender o contexto da pergunta e do documento para extrair informações relevantes.\n",
        "\n",
        "**Similaridade de texto com Doc2Vec:** os embeddings do Doc2Vec são aplicados em tarefas como a busca por documentos similares. Os embeddings dos documentos são comparados para medir a similaridade semântica entre eles.\n",
        "Visão computacional\n",
        "\n",
        "**Classificação de imagem com CNNs:** CNNs, como VGG ou ResNet, são usados em tarefas de classificação de imagem. Os recursos da camada final ou das camadas intermediárias podem servir como embeddings de imagem.\n",
        "\n",
        "**Recuperação de imagens usando CLIP:** o modelo CLIP aprende embeddings conjuntos para imagens e textos. Isso permite aplicações como recuperação de imagens com base em consultas em linguagem natural.\n",
        "\n",
        "**Reconhecimento facial com FaceNet:** o FaceNet cria embeddings para rostos que podem ser usados para reconhecimento facial. Esses embeddings são frequentemente utilizados para medir a similaridade entre diferentes rostos.\n",
        "Sistemas de recomendação\n",
        "\n",
        "**Filtragem colaborativa com embeddings:** os embeddings são usados para representar usuários e itens em modelos de filtragem colaborativa. Métodos de fatoração de matriz utilizam esses embeddings para fazer recomendações personalizadas.\n",
        "\n",
        "**Recomendações de produtos com embeddings de palavras:** no e-commerce, descrições de produtos ou avaliações podem ser transformadas em embeddings de palavras. Produtos similares podem ser recomendados com base na similaridade semântica de seus embeddings.\n",
        "\n",
        "**Aplicações intermodais**\n",
        "Tradução multimodal com o MUSE: o MUSE (Multilingual Universal Sentence Encoder) permite uma compreensão interlinguística e intermodal. Ele pode ser utilizado para tarefas como tradução de texto entre idiomas ou conexão entre imagens e suas descrições correspondentes.\n",
        "\n",
        "**Pesquisa intermodal usando joint embeddings: **os joint embeddings são treinados para diferentes modalidades, como imagens e texto. Isso possibilita uma busca intermodal, onde uma consulta em uma modalidade recupera resultados em outra.\n",
        "\n",
        "**Detecção de anomalias**\n",
        "\n",
        "**Detecção de anomalias em redes com embeddings de gráficos:** os embeddings de nós de rede podem ser usados para detecção de anomalias. As alterações no espaço de embedding podem indicar um comportamento incomum.\n",
        "\n",
        "**Detecção de fraudes com embeddings de transações:** os embeddings de dados de transações podem ajudar a identificar padrões associados a atividades fraudulentas. Embeddings incomuns podem indicar transações potencialmente fraudulentas.\n",
        "\n",
        "Esses exemplos destacam a versatilidade das incorporações em diversas aplicações, mostrando sua capacidade de capturar representações e relações significativas em diferentes tipos de dados."
      ],
      "metadata": {
        "id": "ge_HszLQzc0U"
      }
    },
    {
      "cell_type": "markdown",
      "source": [
        "**Como funciona o embedding em Machine Learning?**\n",
        "\n",
        "A maioria dos algoritmos de aprendizado de máquina só pode obter dados numéricos de baixa dimensão como entradas. Portanto, é necessário converter os dados em um formato numérico. Isso pode envolver questões como a criação de uma representação de \"saco de palavras\" para dados de texto, a conversão de imagens em valores de pixel ou a transformação de dados gráficos em uma matriz numérica.\n",
        "\n",
        "Os objetos que entram em um modelo de incorporação saem como incorporações, representados como vetores.\n",
        "\n",
        "Um vetor é uma matriz de números (por exemplo, 1489, 22… 3, 777), em que cada número indica onde um objeto está ao longo de uma dimensão especificada. O número de dimensões pode chegar a mil ou mais dependendo da complexidade dos dados de entrada. Quanto mais próxima uma incorporação estiver de outras incorporações nesse espaço n-dimensional, mais semelhantes elas serão. A similaridade de distribuição é determinada pelo comprimento dos pontos vetoriais de um objeto para o outro (medido em Euclidiano, coseno ou outra medida).\n",
        "\n",
        "Um modelo, Word2Vec (palavra para vetor), desenvolvido pela Google em 2013, é um método para criar incorporações de palavras de forma eficiente usando uma rede neural de duas camadas. Ele usa como input uma palavra e gera uma coordenada n-dimensional (o vetor de incorporação) de modo que, quando você trace esses vetores de palavras em um espaço tridimensional, os sinônimos se agrupem.\n",
        "\n",
        "Veja como duas palavras, \"papai\" e \"mamãe\" seriam representadas como vetores:\n",
        "\n",
        "\n",
        "\"\n",
        "d\n",
        "uma\n",
        "d\n",
        "”\n",
        "=\n",
        "[\n",
        "0,1548\n",
        ",\n",
        "0,4848\n",
        ",\n",
        "…\n",
        ",\n",
        "1,864\n",
        "]\n",
        "\n",
        "\n",
        "\"\n",
        "M\n",
        "o\n",
        "M\n",
        "”\n",
        "=\n",
        "[\n",
        "0,8785\n",
        ",\n",
        "0,8974\n",
        ",\n",
        "…\n",
        ",\n",
        "2,794\n",
        "]\n",
        "\n",
        "\n",
        "Embora haja alguma semelhança entre essas duas palavras, esperamos que \"pai\" esteja muito mais perto de \"pai\" no espaço vetorial, resultando em um produto escalar mais alto (uma medida da direção relativa de dois vetores e o quanto eles se alinham na direção em que apontam).\n",
        "\n",
        "Um exemplo mais complexo é a incorporação de recomendações, que funciona representando usuários e itens (por exemplo, filmes, produtos, artigos) como vetores de alta dimensão em um espaço vetorial contínuo. Essas incorporações capturam elementos latentes que refletem as preferências dos usuários e as características do item. A ideia é aprender uma representação para cada usuário e item de tal forma que o produto escalar de suas incorporações esteja correlacionado com a preferência do usuário para o item em questão.\n",
        "\n",
        "Cada usuário e item está associado a um vetor de incorporação. Esses vetores normalmente são aprendidos por meio de um modelo de recomendação durante um processo de treinamento. As incorporações do usuário e do item são organizadas em matrizes. As linhas da matriz de usuário representam os usuários e as linhas da matriz de item representam os itens.\n",
        "\n",
        "A pontuação de recomendação de um par de usuário-item pode ser determinada calculando o produto escalar do vetor de incorporação do usuário e o do item. Quanto maior o produto escalar, maior a probabilidade de o usuário estar interessado no item.\n",
        "\n",
        "\n",
        "R\n",
        "E\n",
        "c\n",
        "o\n",
        "M\n",
        "M\n",
        "E\n",
        "N\n",
        "d\n",
        "uma\n",
        "t\n",
        "i\n",
        "o\n",
        "N\n",
        "S\n",
        "c\n",
        "o\n",
        "r\n",
        "E\n",
        "=\n",
        "U\n",
        "S\n",
        "E\n",
        "r\n",
        "E\n",
        "M\n",
        "b\n",
        "E\n",
        "d\n",
        "d\n",
        "i\n",
        "N\n",
        "g\n",
        "⋅\n",
        "I\n",
        "t\n",
        "E\n",
        "M\n",
        "E\n",
        "M\n",
        "b\n",
        "E\n",
        "d\n",
        "d\n",
        "i\n",
        "N\n",
        "g\n",
        "\n",
        "As matrizes de incorporação são aprendidas por meio de um processo de treinamento que usa interações históricas entre usuário e item. O modelo tem como objetivo minimizar a diferença entre as pontuações previstas e as preferências reais do usuário (por exemplo, classificações, cliques, compras).\n",
        "\n",
        "Depois que o modelo é treinado, ele pode ser usado para gerar as melhores N recomendações para os usuários. Os itens com as pontuações previstas mais altas para um usuário são recomendados."
      ],
      "metadata": {
        "id": "1zRDScQuxgug"
      }
    },
    {
      "cell_type": "markdown",
      "source": [
        "# 4.1º Passo: Implementação de Imbeddings..."
      ],
      "metadata": {
        "id": "ysGOZg4TuRMP"
      }
    },
    {
      "cell_type": "code",
      "source": [
        "#Usaremo um modelo diferente para gerar Imbeddings, não o do Googlegminiai normal.\n",
        "#Importando Ferramentas da biblioteca anteriormente instalada.\n",
        "from langchain_google_genai import GoogleGenerativeAIEmbeddings\n",
        "\n",
        "embeddings = GoogleGenerativeAIEmbeddings(\n",
        "    model=\"models/gemini-embedding-001\",\n",
        "    google_api_key = GOOGLE_API_KEY\n",
        ")"
      ],
      "metadata": {
        "id": "frziAchFr8_p"
      },
      "execution_count": 36,
      "outputs": []
    },
    {
      "cell_type": "code",
      "source": [
        "#Usar os Imbeddings para fazer os cálculosde similaride.\n",
        "from langchain_community.vectorstores import FAISS\n",
        "\n",
        "vectorstore = FAISS.from_documents(chunks, embeddings)\n",
        "#Retornar\n",
        "retriever = vectorstore.as_retriever(search_type=\"similarity_score_threshold\",\n",
        "                                     search_kwargs={\"score_threshold\": 0.3, \"k\": 4})"
      ],
      "metadata": {
        "id": "SaQ0D1XVw72Q"
      },
      "execution_count": 37,
      "outputs": []
    },
    {
      "cell_type": "code",
      "source": [
        "#Fazendo a definiçãodo prmopt do sistema.\n",
        "from langchain_core.prompts import ChatPromptTemplate\n",
        "from langchain.chains.combine_documents import create_stuff_documents_chain\n",
        "\n",
        "prompt_rag =ChatPromptTemplate.from_messages([\n",
        "   (\"system\",\n",
        "     \"Você é um Assistente de Políticas Internas (RH/IT) da empresa Carraro Desenvolvimento. \"\n",
        "     \"Responda SOMENTE com base no contexto fornecido. \"\n",
        "     \"Se não houver base suficiente, responda apenas 'Não sei'.\"),\n",
        "\n",
        "    (\"human\", \"Pergunta: {input}\\n\\nContexto:\\n{context}\")\n",
        "])\n",
        "\n",
        "document_chain = create_stuff_documents_chain(llm_triagem, prompt_rag)"
      ],
      "metadata": {
        "id": "R7bCXrukf_E5"
      },
      "execution_count": 39,
      "outputs": []
    },
    {
      "cell_type": "code",
      "source": [
        "# Formatadores para melhor aparência das respostas.\n",
        "import re, pathlib\n",
        "\n",
        "def _clean_text(s: str) -> str:\n",
        "    return re.sub(r\"\\s+\", \" \", s or \"\").strip()\n",
        "\n",
        "def extrair_trecho(texto: str, query: str, janela: int = 240) -> str:\n",
        "    txt = _clean_text(texto)\n",
        "    termos = [t.lower() for t in re.findall(r\"\\w+\", query or \"\") if len(t) >= 4]\n",
        "    pos = -1\n",
        "    for t in termos:\n",
        "        pos = txt.lower().find(t)\n",
        "        if pos != -1: break\n",
        "    if pos == -1: pos = 0\n",
        "    ini, fim = max(0, pos - janela//2), min(len(txt), pos + janela//2)\n",
        "    return txt[ini:fim]\n",
        "\n",
        "def formatar_citacoes(docs_rel: List, query: str) -> List[Dict]:\n",
        "    cites, seen = [], set()\n",
        "    for d in docs_rel:\n",
        "        src = pathlib.Path(d.metadata.get(\"source\",\"\")).name\n",
        "        page = int(d.metadata.get(\"page\", 0)) + 1\n",
        "        key = (src, page)\n",
        "        if key in seen:\n",
        "            continue\n",
        "        seen.add(key)\n",
        "        cites.append({\"documento\": src, \"pagina\": page, \"trecho\": extrair_trecho(d.page_content, query)})\n",
        "    return cites[:3]"
      ],
      "metadata": {
        "id": "Mn73thFQrzM2"
      },
      "execution_count": 54,
      "outputs": []
    },
    {
      "cell_type": "code",
      "source": [
        "#Criar a função responsável pela similaridade semântica.\n",
        "def perguntar_politica_RAG(pergunta: str) -> Dict:\n",
        "  docs_relacionados = retriever.invoke(pergunta)\n",
        "\n",
        "  if not docs_relacionados:\n",
        "    return {\"answer\": \"Não sei.\",\n",
        "            \"citações\": [],\n",
        "            \"contexto_encontrado\": False}\n",
        "\n",
        "  answer = document_chain.invoke({\"input\": pergunta,\n",
        "                                  \"context\": docs_relacionados})\n",
        "\n",
        "  txt = (answer or \"\").strip()\n",
        "\n",
        "  if txt.rstrip(\".!?\") == \"Não sei.\":\n",
        "    return {\"answer\": txt,\n",
        "            \"citações\": [],\n",
        "            \"contexto_encontrado\": False}\n",
        "\n",
        "  return {\"answer\": txt,\n",
        "          \"citações\": formatar_citacoes(docs_relacionados, pergunta),\n",
        "          \"contexto_encontrado\": True}"
      ],
      "metadata": {
        "id": "CHnKLHSOi6Zn"
      },
      "execution_count": 58,
      "outputs": []
    },
    {
      "cell_type": "code",
      "source": [
        "testes = [\"Posso rembolsar a internet?\",\n",
        "          \"Quero mais 5 dias de trabalho remoto, Como faço?\",\n",
        "          \"Posso reembolsar curso ou treinamento da Alura?\",\n",
        "          \"Quantas capivaras tem no Rio Pinheiro?\"]"
      ],
      "metadata": {
        "id": "ZZ7KE3RjmwbA"
      },
      "execution_count": 56,
      "outputs": []
    },
    {
      "cell_type": "code",
      "source": [
        "for msg_teste in testes:\n",
        "  resposta = perguntar_politica_RAG(msg_teste)\n",
        "  print(f\"PERGUNTA: {msg_teste}\")\n",
        "  print(f\"RESPOSTA: {resposta['answer']}\")\n",
        "\n",
        "  if resposta[\"contexto_encontrado\"]:\n",
        "    print(\"CITAÇÕES:\")\n",
        "    for c in resposta[\"citações\"]:\n",
        "      print(f\"Documento: {c['documento']}\")\n",
        "      print(f\"Página: {c['pagina']}\")\n",
        "      print(f\"Trecho: {c['trecho']}\")\n",
        "    print(\"---------------------------------------\")"
      ],
      "metadata": {
        "colab": {
          "base_uri": "https://localhost:8080/"
        },
        "id": "87dN5fDvnAQo",
        "outputId": "f1f6612f-489a-4571-82d0-2c097bf8d768"
      },
      "execution_count": 59,
      "outputs": [
        {
          "output_type": "stream",
          "name": "stdout",
          "text": [
            "PERGUNTA: Posso rembolsar a internet?\n",
            "RESPOSTA: Sim, a internet para home office é reembolsável via subsídio mensal de até R$ 100, mediante nota fiscal nominal. A solicitação deve ser submetida em até 10 dias corridos após a despesa.\n",
            "CITAÇÕES:\n",
            "Documento: Política de Reembolsos (Viagens e Despesas).pdf\n",
            "Página: 1\n",
            "Trecho: lsáveis.​ 3.​ Transporte: táxi/app são permitidos quando não houver alternativa viável. Comprovantes obrigatórios.​ 4.​ Internet para home office: reembolsável via subsídio mensal de até R$ 100, conforme política de Home Office.​\n",
            "Documento: Políticas de Home Office.pdf\n",
            "Página: 1\n",
            "Trecho: 5.​ Conectividade: há subsídio mensal de internet domiciliar para quem trabalha em home office: até R$ 100/mês, mediante nota fiscal nominal.​ 6.​ Solicitação de\n",
            "---------------------------------------\n",
            "PERGUNTA: Quero mais 5 dias de trabalho remoto, Como faço?\n",
            "RESPOSTA: Para solicitar 5 dias de trabalho remoto, você deve formalizar a solicitação via chamado ao RH com a justificativa do seu gestor.\n",
            "CITAÇÕES:\n",
            "Documento: Políticas de Home Office.pdf\n",
            "Página: 1\n",
            "Trecho:  para quem trabalha em home office: até R$ 100/mês, mediante nota fiscal nominal.​ 6.​ Solicitação de exceção (ex.: 4-5 dias remotos): deve ser formalizada via chamado ao RH com justificativa do gestor.\n",
            "Documento: Política de Reembolsos (Viagens e Despesas).pdf\n",
            "Página: 1\n",
            "Trecho: são reembolsáveis.​ 3.​ Transporte: táxi/app são permitidos quando não houver alternativa viável. Comprovantes obrigatór\n",
            "---------------------------------------\n",
            "PERGUNTA: Posso reembolsar curso ou treinamento da Alura?\n",
            "RESPOSTA: Sim, cursos e certificações são reembolsáveis, desde que haja aprovação prévia do gestor e orçamento do time.\n",
            "CITAÇÕES:\n",
            "Documento: Política de Reembolsos (Viagens e Despesas).pdf\n",
            "Página: 1\n",
            "Trecho: Política de Reembolsos (Viagens e Despesas) 1.​ Reembolso: requer nota fiscal e deve ser submetido em até 10 dias corrid\n",
            "Documento: Políticas de Home Office.pdf\n",
            "Página: 1\n",
            "Trecho: Políticas de Home Office 1.​ A empresa adota modelo híbrido: mínimo de 2 dias presenciais por semana, salvo exceções apr\n",
            "---------------------------------------\n",
            "PERGUNTA: Quantas capivaras tem no Rio Pinheiro?\n",
            "RESPOSTA: Não sei.\n",
            "CITAÇÕES:\n",
            "Documento: Política de Reembolsos (Viagens e Despesas).pdf\n",
            "Página: 1\n",
            "Trecho: Política de Reembolsos (Viagens e Despesas) 1.​ Reembolso: requer nota fiscal e deve ser submetido em até 10 dias corrid\n",
            "Documento: Políticas de Home Office.pdf\n",
            "Página: 1\n",
            "Trecho: 5.​ Conectividade: há subsídio mensal de internet domiciliar para quem trabalha em home office: até R$ 100/mês, mediante\n",
            "---------------------------------------\n"
          ]
        }
      ]
    },
    {
      "cell_type": "code",
      "source": [],
      "metadata": {
        "id": "r9lbG0eBrm4m"
      },
      "execution_count": null,
      "outputs": []
    }
  ]
}